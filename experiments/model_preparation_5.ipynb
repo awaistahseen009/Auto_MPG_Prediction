{
 "cells": [
  {
   "cell_type": "markdown",
   "metadata": {},
   "source": [
    "# Conclusion in this notebook\n",
    "### Removing all other transformations except decade 70 and 80"
   ]
  },
  {
   "cell_type": "code",
   "execution_count": 1,
   "metadata": {},
   "outputs": [],
   "source": [
    "import numpy as np\n",
    "import pandas as pd\n",
    "import matplotlib.pyplot as plt\n",
    "import seaborn as sns"
   ]
  },
  {
   "cell_type": "code",
   "execution_count": 2,
   "metadata": {},
   "outputs": [],
   "source": [
    "column_names = [\n",
    "    'mpg', 'cylinders', 'displacement', 'horsepower', 'weight',\n",
    "    'acceleration', 'model_year', 'origin', 'car_name'\n",
    "]"
   ]
  },
  {
   "cell_type": "code",
   "execution_count": 3,
   "metadata": {},
   "outputs": [],
   "source": [
    "df = pd.read_csv(\"../data/auto-mpg.data\", sep = r\"\\s+\", header = None, names = column_names, na_values = \"?\")"
   ]
  },
  {
   "cell_type": "code",
   "execution_count": 4,
   "metadata": {},
   "outputs": [
    {
     "data": {
      "text/html": [
       "<div>\n",
       "<style scoped>\n",
       "    .dataframe tbody tr th:only-of-type {\n",
       "        vertical-align: middle;\n",
       "    }\n",
       "\n",
       "    .dataframe tbody tr th {\n",
       "        vertical-align: top;\n",
       "    }\n",
       "\n",
       "    .dataframe thead th {\n",
       "        text-align: right;\n",
       "    }\n",
       "</style>\n",
       "<table border=\"1\" class=\"dataframe\">\n",
       "  <thead>\n",
       "    <tr style=\"text-align: right;\">\n",
       "      <th></th>\n",
       "      <th>mpg</th>\n",
       "      <th>cylinders</th>\n",
       "      <th>displacement</th>\n",
       "      <th>horsepower</th>\n",
       "      <th>weight</th>\n",
       "      <th>acceleration</th>\n",
       "      <th>model_year</th>\n",
       "      <th>origin</th>\n",
       "      <th>car_name</th>\n",
       "    </tr>\n",
       "  </thead>\n",
       "  <tbody>\n",
       "    <tr>\n",
       "      <th>0</th>\n",
       "      <td>18.0</td>\n",
       "      <td>8</td>\n",
       "      <td>307.0</td>\n",
       "      <td>130.0</td>\n",
       "      <td>3504.0</td>\n",
       "      <td>12.0</td>\n",
       "      <td>70</td>\n",
       "      <td>1</td>\n",
       "      <td>chevrolet chevelle malibu</td>\n",
       "    </tr>\n",
       "    <tr>\n",
       "      <th>1</th>\n",
       "      <td>15.0</td>\n",
       "      <td>8</td>\n",
       "      <td>350.0</td>\n",
       "      <td>165.0</td>\n",
       "      <td>3693.0</td>\n",
       "      <td>11.5</td>\n",
       "      <td>70</td>\n",
       "      <td>1</td>\n",
       "      <td>buick skylark 320</td>\n",
       "    </tr>\n",
       "    <tr>\n",
       "      <th>2</th>\n",
       "      <td>18.0</td>\n",
       "      <td>8</td>\n",
       "      <td>318.0</td>\n",
       "      <td>150.0</td>\n",
       "      <td>3436.0</td>\n",
       "      <td>11.0</td>\n",
       "      <td>70</td>\n",
       "      <td>1</td>\n",
       "      <td>plymouth satellite</td>\n",
       "    </tr>\n",
       "    <tr>\n",
       "      <th>3</th>\n",
       "      <td>16.0</td>\n",
       "      <td>8</td>\n",
       "      <td>304.0</td>\n",
       "      <td>150.0</td>\n",
       "      <td>3433.0</td>\n",
       "      <td>12.0</td>\n",
       "      <td>70</td>\n",
       "      <td>1</td>\n",
       "      <td>amc rebel sst</td>\n",
       "    </tr>\n",
       "    <tr>\n",
       "      <th>4</th>\n",
       "      <td>17.0</td>\n",
       "      <td>8</td>\n",
       "      <td>302.0</td>\n",
       "      <td>140.0</td>\n",
       "      <td>3449.0</td>\n",
       "      <td>10.5</td>\n",
       "      <td>70</td>\n",
       "      <td>1</td>\n",
       "      <td>ford torino</td>\n",
       "    </tr>\n",
       "  </tbody>\n",
       "</table>\n",
       "</div>"
      ],
      "text/plain": [
       "    mpg  cylinders  displacement  horsepower  weight  acceleration  \\\n",
       "0  18.0          8         307.0       130.0  3504.0          12.0   \n",
       "1  15.0          8         350.0       165.0  3693.0          11.5   \n",
       "2  18.0          8         318.0       150.0  3436.0          11.0   \n",
       "3  16.0          8         304.0       150.0  3433.0          12.0   \n",
       "4  17.0          8         302.0       140.0  3449.0          10.5   \n",
       "\n",
       "   model_year  origin                   car_name  \n",
       "0          70       1  chevrolet chevelle malibu  \n",
       "1          70       1          buick skylark 320  \n",
       "2          70       1         plymouth satellite  \n",
       "3          70       1              amc rebel sst  \n",
       "4          70       1                ford torino  "
      ]
     },
     "execution_count": 4,
     "metadata": {},
     "output_type": "execute_result"
    }
   ],
   "source": [
    "df.head()"
   ]
  },
  {
   "cell_type": "code",
   "execution_count": 5,
   "metadata": {},
   "outputs": [
    {
     "name": "stdout",
     "output_type": "stream",
     "text": [
      "<class 'pandas.core.frame.DataFrame'>\n",
      "RangeIndex: 398 entries, 0 to 397\n",
      "Data columns (total 9 columns):\n",
      " #   Column        Non-Null Count  Dtype  \n",
      "---  ------        --------------  -----  \n",
      " 0   mpg           398 non-null    float64\n",
      " 1   cylinders     398 non-null    int64  \n",
      " 2   displacement  398 non-null    float64\n",
      " 3   horsepower    392 non-null    float64\n",
      " 4   weight        398 non-null    float64\n",
      " 5   acceleration  398 non-null    float64\n",
      " 6   model_year    398 non-null    int64  \n",
      " 7   origin        398 non-null    int64  \n",
      " 8   car_name      398 non-null    object \n",
      "dtypes: float64(5), int64(3), object(1)\n",
      "memory usage: 28.1+ KB\n"
     ]
    }
   ],
   "source": [
    "df.info()"
   ]
  },
  {
   "cell_type": "code",
   "execution_count": 6,
   "metadata": {},
   "outputs": [],
   "source": [
    "df.dropna(inplace = True)"
   ]
  },
  {
   "cell_type": "code",
   "execution_count": 7,
   "metadata": {},
   "outputs": [
    {
     "data": {
      "text/plain": [
       "np.int64(0)"
      ]
     },
     "execution_count": 7,
     "metadata": {},
     "output_type": "execute_result"
    }
   ],
   "source": [
    "df.duplicated().sum()"
   ]
  },
  {
   "cell_type": "markdown",
   "metadata": {},
   "source": [
    "## Feature Engineering"
   ]
  },
  {
   "cell_type": "code",
   "execution_count": 8,
   "metadata": {},
   "outputs": [],
   "source": [
    "# convert the year to categorical \n",
    "# Convert to decade group (e.g., 70s, 80s)\n",
    "df['year_category'] = df['model_year'].apply(lambda x: '70s' if x < 80 else '80s')\n",
    "year_dummies = pd.get_dummies(df['year_category'], prefix='decade')\n",
    "df = pd.concat([df, year_dummies], axis=1)"
   ]
  },
  {
   "cell_type": "code",
   "execution_count": 9,
   "metadata": {},
   "outputs": [
    {
     "data": {
      "text/html": [
       "<div>\n",
       "<style scoped>\n",
       "    .dataframe tbody tr th:only-of-type {\n",
       "        vertical-align: middle;\n",
       "    }\n",
       "\n",
       "    .dataframe tbody tr th {\n",
       "        vertical-align: top;\n",
       "    }\n",
       "\n",
       "    .dataframe thead th {\n",
       "        text-align: right;\n",
       "    }\n",
       "</style>\n",
       "<table border=\"1\" class=\"dataframe\">\n",
       "  <thead>\n",
       "    <tr style=\"text-align: right;\">\n",
       "      <th></th>\n",
       "      <th>mpg</th>\n",
       "      <th>cylinders</th>\n",
       "      <th>displacement</th>\n",
       "      <th>horsepower</th>\n",
       "      <th>weight</th>\n",
       "      <th>acceleration</th>\n",
       "      <th>model_year</th>\n",
       "      <th>origin</th>\n",
       "      <th>car_name</th>\n",
       "      <th>year_category</th>\n",
       "      <th>decade_70s</th>\n",
       "      <th>decade_80s</th>\n",
       "    </tr>\n",
       "  </thead>\n",
       "  <tbody>\n",
       "    <tr>\n",
       "      <th>0</th>\n",
       "      <td>18.0</td>\n",
       "      <td>8</td>\n",
       "      <td>307.0</td>\n",
       "      <td>130.0</td>\n",
       "      <td>3504.0</td>\n",
       "      <td>12.0</td>\n",
       "      <td>70</td>\n",
       "      <td>1</td>\n",
       "      <td>chevrolet chevelle malibu</td>\n",
       "      <td>70s</td>\n",
       "      <td>True</td>\n",
       "      <td>False</td>\n",
       "    </tr>\n",
       "    <tr>\n",
       "      <th>1</th>\n",
       "      <td>15.0</td>\n",
       "      <td>8</td>\n",
       "      <td>350.0</td>\n",
       "      <td>165.0</td>\n",
       "      <td>3693.0</td>\n",
       "      <td>11.5</td>\n",
       "      <td>70</td>\n",
       "      <td>1</td>\n",
       "      <td>buick skylark 320</td>\n",
       "      <td>70s</td>\n",
       "      <td>True</td>\n",
       "      <td>False</td>\n",
       "    </tr>\n",
       "    <tr>\n",
       "      <th>2</th>\n",
       "      <td>18.0</td>\n",
       "      <td>8</td>\n",
       "      <td>318.0</td>\n",
       "      <td>150.0</td>\n",
       "      <td>3436.0</td>\n",
       "      <td>11.0</td>\n",
       "      <td>70</td>\n",
       "      <td>1</td>\n",
       "      <td>plymouth satellite</td>\n",
       "      <td>70s</td>\n",
       "      <td>True</td>\n",
       "      <td>False</td>\n",
       "    </tr>\n",
       "    <tr>\n",
       "      <th>3</th>\n",
       "      <td>16.0</td>\n",
       "      <td>8</td>\n",
       "      <td>304.0</td>\n",
       "      <td>150.0</td>\n",
       "      <td>3433.0</td>\n",
       "      <td>12.0</td>\n",
       "      <td>70</td>\n",
       "      <td>1</td>\n",
       "      <td>amc rebel sst</td>\n",
       "      <td>70s</td>\n",
       "      <td>True</td>\n",
       "      <td>False</td>\n",
       "    </tr>\n",
       "    <tr>\n",
       "      <th>4</th>\n",
       "      <td>17.0</td>\n",
       "      <td>8</td>\n",
       "      <td>302.0</td>\n",
       "      <td>140.0</td>\n",
       "      <td>3449.0</td>\n",
       "      <td>10.5</td>\n",
       "      <td>70</td>\n",
       "      <td>1</td>\n",
       "      <td>ford torino</td>\n",
       "      <td>70s</td>\n",
       "      <td>True</td>\n",
       "      <td>False</td>\n",
       "    </tr>\n",
       "  </tbody>\n",
       "</table>\n",
       "</div>"
      ],
      "text/plain": [
       "    mpg  cylinders  displacement  horsepower  weight  acceleration  \\\n",
       "0  18.0          8         307.0       130.0  3504.0          12.0   \n",
       "1  15.0          8         350.0       165.0  3693.0          11.5   \n",
       "2  18.0          8         318.0       150.0  3436.0          11.0   \n",
       "3  16.0          8         304.0       150.0  3433.0          12.0   \n",
       "4  17.0          8         302.0       140.0  3449.0          10.5   \n",
       "\n",
       "   model_year  origin                   car_name year_category  decade_70s  \\\n",
       "0          70       1  chevrolet chevelle malibu           70s        True   \n",
       "1          70       1          buick skylark 320           70s        True   \n",
       "2          70       1         plymouth satellite           70s        True   \n",
       "3          70       1              amc rebel sst           70s        True   \n",
       "4          70       1                ford torino           70s        True   \n",
       "\n",
       "   decade_80s  \n",
       "0       False  \n",
       "1       False  \n",
       "2       False  \n",
       "3       False  \n",
       "4       False  "
      ]
     },
     "execution_count": 9,
     "metadata": {},
     "output_type": "execute_result"
    }
   ],
   "source": [
    "df.head()"
   ]
  },
  {
   "cell_type": "markdown",
   "metadata": {},
   "source": [
    "#### we will play with car names in 3rd experiement"
   ]
  },
  {
   "cell_type": "code",
   "execution_count": 10,
   "metadata": {},
   "outputs": [
    {
     "data": {
      "text/plain": [
       "array(['amc', 'audi', 'bmw', 'buick', 'cadillac', 'capri', 'chevroelt',\n",
       "       'chevrolet', 'chevy', 'chrysler', 'datsun', 'dodge', 'fiat',\n",
       "       'ford', 'hi', 'honda', 'maxda', 'mazda', 'mercedes',\n",
       "       'mercedes-benz', 'mercury', 'nissan', 'oldsmobile', 'opel',\n",
       "       'peugeot', 'plymouth', 'pontiac', 'renault', 'saab', 'subaru',\n",
       "       'toyota', 'toyouta', 'triumph', 'vokswagen', 'volkswagen', 'volvo',\n",
       "       'vw'], dtype='<U13')"
      ]
     },
     "execution_count": 10,
     "metadata": {},
     "output_type": "execute_result"
    }
   ],
   "source": [
    "np.unique([car_name.split(\" \")[0] for car_name in df['car_name'].values ])"
   ]
  },
  {
   "cell_type": "code",
   "execution_count": 11,
   "metadata": {},
   "outputs": [
    {
     "data": {
      "text/plain": [
       "Index(['mpg', 'cylinders', 'displacement', 'horsepower', 'weight',\n",
       "       'acceleration', 'model_year', 'origin', 'car_name', 'year_category',\n",
       "       'decade_70s', 'decade_80s'],\n",
       "      dtype='object')"
      ]
     },
     "execution_count": 11,
     "metadata": {},
     "output_type": "execute_result"
    }
   ],
   "source": [
    "df.columns"
   ]
  },
  {
   "cell_type": "code",
   "execution_count": 12,
   "metadata": {},
   "outputs": [],
   "source": [
    "numeric_columns = [\"displacement\", \"horsepower\", \"weight\", \"acceleration\" ]\n",
    "from sklearn.preprocessing import StandardScaler, Normalizer\n",
    "df.drop(\"car_name\", axis =1 , inplace = True)   \n",
    "# scaler = StandardScaler()\n",
    "scaler = Normalizer()"
   ]
  },
  {
   "cell_type": "code",
   "execution_count": 13,
   "metadata": {},
   "outputs": [
    {
     "data": {
      "text/html": [
       "<div>\n",
       "<style scoped>\n",
       "    .dataframe tbody tr th:only-of-type {\n",
       "        vertical-align: middle;\n",
       "    }\n",
       "\n",
       "    .dataframe tbody tr th {\n",
       "        vertical-align: top;\n",
       "    }\n",
       "\n",
       "    .dataframe thead th {\n",
       "        text-align: right;\n",
       "    }\n",
       "</style>\n",
       "<table border=\"1\" class=\"dataframe\">\n",
       "  <thead>\n",
       "    <tr style=\"text-align: right;\">\n",
       "      <th></th>\n",
       "      <th>mpg</th>\n",
       "      <th>cylinders</th>\n",
       "      <th>displacement</th>\n",
       "      <th>horsepower</th>\n",
       "      <th>weight</th>\n",
       "      <th>acceleration</th>\n",
       "      <th>model_year</th>\n",
       "      <th>origin</th>\n",
       "      <th>year_category</th>\n",
       "      <th>decade_70s</th>\n",
       "      <th>decade_80s</th>\n",
       "    </tr>\n",
       "  </thead>\n",
       "  <tbody>\n",
       "    <tr>\n",
       "      <th>0</th>\n",
       "      <td>18.0</td>\n",
       "      <td>8</td>\n",
       "      <td>307.0</td>\n",
       "      <td>130.0</td>\n",
       "      <td>3504.0</td>\n",
       "      <td>12.0</td>\n",
       "      <td>70</td>\n",
       "      <td>1</td>\n",
       "      <td>70s</td>\n",
       "      <td>True</td>\n",
       "      <td>False</td>\n",
       "    </tr>\n",
       "  </tbody>\n",
       "</table>\n",
       "</div>"
      ],
      "text/plain": [
       "    mpg  cylinders  displacement  horsepower  weight  acceleration  \\\n",
       "0  18.0          8         307.0       130.0  3504.0          12.0   \n",
       "\n",
       "   model_year  origin year_category  decade_70s  decade_80s  \n",
       "0          70       1           70s        True       False  "
      ]
     },
     "execution_count": 13,
     "metadata": {},
     "output_type": "execute_result"
    }
   ],
   "source": [
    "df.head(1)"
   ]
  },
  {
   "cell_type": "code",
   "execution_count": 14,
   "metadata": {},
   "outputs": [],
   "source": [
    "df[numeric_columns] = scaler.fit_transform(df[numeric_columns])"
   ]
  },
  {
   "cell_type": "code",
   "execution_count": 15,
   "metadata": {},
   "outputs": [
    {
     "data": {
      "text/html": [
       "<div>\n",
       "<style scoped>\n",
       "    .dataframe tbody tr th:only-of-type {\n",
       "        vertical-align: middle;\n",
       "    }\n",
       "\n",
       "    .dataframe tbody tr th {\n",
       "        vertical-align: top;\n",
       "    }\n",
       "\n",
       "    .dataframe thead th {\n",
       "        text-align: right;\n",
       "    }\n",
       "</style>\n",
       "<table border=\"1\" class=\"dataframe\">\n",
       "  <thead>\n",
       "    <tr style=\"text-align: right;\">\n",
       "      <th></th>\n",
       "      <th>mpg</th>\n",
       "      <th>cylinders</th>\n",
       "      <th>displacement</th>\n",
       "      <th>horsepower</th>\n",
       "      <th>weight</th>\n",
       "      <th>acceleration</th>\n",
       "      <th>model_year</th>\n",
       "      <th>origin</th>\n",
       "      <th>year_category</th>\n",
       "      <th>decade_70s</th>\n",
       "      <th>decade_80s</th>\n",
       "    </tr>\n",
       "  </thead>\n",
       "  <tbody>\n",
       "    <tr>\n",
       "      <th>0</th>\n",
       "      <td>18.0</td>\n",
       "      <td>8</td>\n",
       "      <td>0.08722</td>\n",
       "      <td>0.036933</td>\n",
       "      <td>0.995498</td>\n",
       "      <td>0.003409</td>\n",
       "      <td>70</td>\n",
       "      <td>1</td>\n",
       "      <td>70s</td>\n",
       "      <td>True</td>\n",
       "      <td>False</td>\n",
       "    </tr>\n",
       "  </tbody>\n",
       "</table>\n",
       "</div>"
      ],
      "text/plain": [
       "    mpg  cylinders  displacement  horsepower    weight  acceleration  \\\n",
       "0  18.0          8       0.08722    0.036933  0.995498      0.003409   \n",
       "\n",
       "   model_year  origin year_category  decade_70s  decade_80s  \n",
       "0          70       1           70s        True       False  "
      ]
     },
     "execution_count": 15,
     "metadata": {},
     "output_type": "execute_result"
    }
   ],
   "source": [
    "df.head(1)"
   ]
  },
  {
   "cell_type": "code",
   "execution_count": 16,
   "metadata": {},
   "outputs": [
    {
     "data": {
      "text/html": [
       "<div>\n",
       "<style scoped>\n",
       "    .dataframe tbody tr th:only-of-type {\n",
       "        vertical-align: middle;\n",
       "    }\n",
       "\n",
       "    .dataframe tbody tr th {\n",
       "        vertical-align: top;\n",
       "    }\n",
       "\n",
       "    .dataframe thead th {\n",
       "        text-align: right;\n",
       "    }\n",
       "</style>\n",
       "<table border=\"1\" class=\"dataframe\">\n",
       "  <thead>\n",
       "    <tr style=\"text-align: right;\">\n",
       "      <th></th>\n",
       "      <th>mpg</th>\n",
       "      <th>cylinders</th>\n",
       "      <th>displacement</th>\n",
       "      <th>horsepower</th>\n",
       "      <th>weight</th>\n",
       "      <th>acceleration</th>\n",
       "      <th>model_year</th>\n",
       "      <th>origin</th>\n",
       "      <th>year_category</th>\n",
       "      <th>decade_70s</th>\n",
       "      <th>decade_80s</th>\n",
       "    </tr>\n",
       "  </thead>\n",
       "  <tbody>\n",
       "    <tr>\n",
       "      <th>0</th>\n",
       "      <td>18.0</td>\n",
       "      <td>8</td>\n",
       "      <td>0.087220</td>\n",
       "      <td>0.036933</td>\n",
       "      <td>0.995498</td>\n",
       "      <td>0.003409</td>\n",
       "      <td>70</td>\n",
       "      <td>1</td>\n",
       "      <td>70s</td>\n",
       "      <td>True</td>\n",
       "      <td>False</td>\n",
       "    </tr>\n",
       "    <tr>\n",
       "      <th>1</th>\n",
       "      <td>15.0</td>\n",
       "      <td>8</td>\n",
       "      <td>0.094257</td>\n",
       "      <td>0.044436</td>\n",
       "      <td>0.994551</td>\n",
       "      <td>0.003097</td>\n",
       "      <td>70</td>\n",
       "      <td>1</td>\n",
       "      <td>70s</td>\n",
       "      <td>True</td>\n",
       "      <td>False</td>\n",
       "    </tr>\n",
       "    <tr>\n",
       "      <th>2</th>\n",
       "      <td>18.0</td>\n",
       "      <td>8</td>\n",
       "      <td>0.092068</td>\n",
       "      <td>0.043428</td>\n",
       "      <td>0.994800</td>\n",
       "      <td>0.003185</td>\n",
       "      <td>70</td>\n",
       "      <td>1</td>\n",
       "      <td>70s</td>\n",
       "      <td>True</td>\n",
       "      <td>False</td>\n",
       "    </tr>\n",
       "    <tr>\n",
       "      <th>3</th>\n",
       "      <td>16.0</td>\n",
       "      <td>8</td>\n",
       "      <td>0.088123</td>\n",
       "      <td>0.043482</td>\n",
       "      <td>0.995154</td>\n",
       "      <td>0.003479</td>\n",
       "      <td>70</td>\n",
       "      <td>1</td>\n",
       "      <td>70s</td>\n",
       "      <td>True</td>\n",
       "      <td>False</td>\n",
       "    </tr>\n",
       "    <tr>\n",
       "      <th>4</th>\n",
       "      <td>17.0</td>\n",
       "      <td>8</td>\n",
       "      <td>0.087156</td>\n",
       "      <td>0.040404</td>\n",
       "      <td>0.995370</td>\n",
       "      <td>0.003030</td>\n",
       "      <td>70</td>\n",
       "      <td>1</td>\n",
       "      <td>70s</td>\n",
       "      <td>True</td>\n",
       "      <td>False</td>\n",
       "    </tr>\n",
       "    <tr>\n",
       "      <th>...</th>\n",
       "      <td>...</td>\n",
       "      <td>...</td>\n",
       "      <td>...</td>\n",
       "      <td>...</td>\n",
       "      <td>...</td>\n",
       "      <td>...</td>\n",
       "      <td>...</td>\n",
       "      <td>...</td>\n",
       "      <td>...</td>\n",
       "      <td>...</td>\n",
       "      <td>...</td>\n",
       "    </tr>\n",
       "    <tr>\n",
       "      <th>393</th>\n",
       "      <td>27.0</td>\n",
       "      <td>4</td>\n",
       "      <td>0.050092</td>\n",
       "      <td>0.030771</td>\n",
       "      <td>0.998255</td>\n",
       "      <td>0.005582</td>\n",
       "      <td>82</td>\n",
       "      <td>1</td>\n",
       "      <td>80s</td>\n",
       "      <td>False</td>\n",
       "      <td>True</td>\n",
       "    </tr>\n",
       "    <tr>\n",
       "      <th>394</th>\n",
       "      <td>44.0</td>\n",
       "      <td>4</td>\n",
       "      <td>0.045476</td>\n",
       "      <td>0.024379</td>\n",
       "      <td>0.998601</td>\n",
       "      <td>0.011533</td>\n",
       "      <td>82</td>\n",
       "      <td>2</td>\n",
       "      <td>80s</td>\n",
       "      <td>False</td>\n",
       "      <td>True</td>\n",
       "    </tr>\n",
       "    <tr>\n",
       "      <th>395</th>\n",
       "      <td>32.0</td>\n",
       "      <td>4</td>\n",
       "      <td>0.058682</td>\n",
       "      <td>0.036513</td>\n",
       "      <td>0.997596</td>\n",
       "      <td>0.005042</td>\n",
       "      <td>82</td>\n",
       "      <td>1</td>\n",
       "      <td>80s</td>\n",
       "      <td>False</td>\n",
       "      <td>True</td>\n",
       "    </tr>\n",
       "    <tr>\n",
       "      <th>396</th>\n",
       "      <td>28.0</td>\n",
       "      <td>4</td>\n",
       "      <td>0.045645</td>\n",
       "      <td>0.030050</td>\n",
       "      <td>0.998481</td>\n",
       "      <td>0.007075</td>\n",
       "      <td>82</td>\n",
       "      <td>1</td>\n",
       "      <td>80s</td>\n",
       "      <td>False</td>\n",
       "      <td>True</td>\n",
       "    </tr>\n",
       "    <tr>\n",
       "      <th>397</th>\n",
       "      <td>31.0</td>\n",
       "      <td>4</td>\n",
       "      <td>0.043687</td>\n",
       "      <td>0.030104</td>\n",
       "      <td>0.998566</td>\n",
       "      <td>0.007122</td>\n",
       "      <td>82</td>\n",
       "      <td>1</td>\n",
       "      <td>80s</td>\n",
       "      <td>False</td>\n",
       "      <td>True</td>\n",
       "    </tr>\n",
       "  </tbody>\n",
       "</table>\n",
       "<p>392 rows × 11 columns</p>\n",
       "</div>"
      ],
      "text/plain": [
       "      mpg  cylinders  displacement  horsepower    weight  acceleration  \\\n",
       "0    18.0          8      0.087220    0.036933  0.995498      0.003409   \n",
       "1    15.0          8      0.094257    0.044436  0.994551      0.003097   \n",
       "2    18.0          8      0.092068    0.043428  0.994800      0.003185   \n",
       "3    16.0          8      0.088123    0.043482  0.995154      0.003479   \n",
       "4    17.0          8      0.087156    0.040404  0.995370      0.003030   \n",
       "..    ...        ...           ...         ...       ...           ...   \n",
       "393  27.0          4      0.050092    0.030771  0.998255      0.005582   \n",
       "394  44.0          4      0.045476    0.024379  0.998601      0.011533   \n",
       "395  32.0          4      0.058682    0.036513  0.997596      0.005042   \n",
       "396  28.0          4      0.045645    0.030050  0.998481      0.007075   \n",
       "397  31.0          4      0.043687    0.030104  0.998566      0.007122   \n",
       "\n",
       "     model_year  origin year_category  decade_70s  decade_80s  \n",
       "0            70       1           70s        True       False  \n",
       "1            70       1           70s        True       False  \n",
       "2            70       1           70s        True       False  \n",
       "3            70       1           70s        True       False  \n",
       "4            70       1           70s        True       False  \n",
       "..          ...     ...           ...         ...         ...  \n",
       "393          82       1           80s       False        True  \n",
       "394          82       2           80s       False        True  \n",
       "395          82       1           80s       False        True  \n",
       "396          82       1           80s       False        True  \n",
       "397          82       1           80s       False        True  \n",
       "\n",
       "[392 rows x 11 columns]"
      ]
     },
     "execution_count": 16,
     "metadata": {},
     "output_type": "execute_result"
    }
   ],
   "source": [
    "df.dropna()"
   ]
  },
  {
   "cell_type": "code",
   "execution_count": 17,
   "metadata": {},
   "outputs": [],
   "source": [
    "X = df.drop([\"mpg\",\"model_year\", \"acceleration\", \"weight\",\"year_category\"], axis = 1)\n",
    "y = df['mpg']\n",
    "from sklearn.model_selection import train_test_split\n",
    "X_train, X_test, y_train, y_test = train_test_split(X, y, test_size=0.2 ,random_state = 42)"
   ]
  },
  {
   "cell_type": "code",
   "execution_count": 18,
   "metadata": {},
   "outputs": [
    {
     "data": {
      "text/plain": [
       "((313, 6), (313,), (79, 6), (79,))"
      ]
     },
     "execution_count": 18,
     "metadata": {},
     "output_type": "execute_result"
    }
   ],
   "source": [
    "X_train.shape , y_train.shape, X_test.shape , y_test.shape"
   ]
  },
  {
   "cell_type": "code",
   "execution_count": 19,
   "metadata": {},
   "outputs": [],
   "source": [
    "from sklearn.linear_model import LinearRegression, Ridge, Lasso, ElasticNet\n",
    "from sklearn.svm import SVR\n",
    "from sklearn.ensemble import RandomForestRegressor\n",
    "from sklearn.tree import DecisionTreeRegressor"
   ]
  },
  {
   "cell_type": "markdown",
   "metadata": {},
   "source": [
    "## Before Hyper-Parameter Tuning"
   ]
  },
  {
   "cell_type": "code",
   "execution_count": 20,
   "metadata": {},
   "outputs": [],
   "source": [
    "from sklearn.metrics import r2_score"
   ]
  },
  {
   "cell_type": "code",
   "execution_count": 21,
   "metadata": {},
   "outputs": [
    {
     "name": "stdout",
     "output_type": "stream",
     "text": [
      "LinearRegression: R² Score = 0.7124\n",
      "Ridge: R² Score = 0.7082\n",
      "Lasso: R² Score = 0.6029\n",
      "ElasticNet: R² Score = 0.6400\n",
      "SVR: R² Score = 0.6951\n",
      "RandomForestRegressor: R² Score = 0.7217\n",
      "DecisionTreeRegressor: R² Score = 0.3815\n"
     ]
    }
   ],
   "source": [
    "regressors = [\n",
    "    LinearRegression(),\n",
    "    Ridge(),\n",
    "    Lasso(),\n",
    "    ElasticNet(),\n",
    "    SVR(),\n",
    "    RandomForestRegressor(),\n",
    "    DecisionTreeRegressor()\n",
    "]\n",
    "\n",
    "for regressor in regressors:\n",
    "    regressor.fit(X_train, y_train)\n",
    "    y_pred = regressor.predict(X_test)\n",
    "    r2 = r2_score(y_test, y_pred)\n",
    "    print(f\"{regressor.__class__.__name__}: R² Score = {r2:.4f}\")"
   ]
  },
  {
   "cell_type": "code",
   "execution_count": 22,
   "metadata": {},
   "outputs": [],
   "source": [
    "from sklearn.model_selection import GridSearchCV"
   ]
  },
  {
   "cell_type": "code",
   "execution_count": 23,
   "metadata": {},
   "outputs": [],
   "source": [
    "regressors = [\n",
    "    {'model': LinearRegression(), 'params': {}},  # No hyperparameters to tune\n",
    "    {'model': Ridge(), 'params': {'alpha': [0.1, 1.0, 10.0, 100.0]}},\n",
    "    {'model': Lasso(), 'params': {'alpha': [0.1, 1.0, 10.0], 'max_iter': [1000, 2000]}},\n",
    "    {'model': ElasticNet(), 'params': {'alpha': [0.1, 1.0, 10.0], 'l1_ratio': [0.2, 0.5, 0.8]}},\n",
    "    {'model': SVR(), 'params': {'C': [0.1, 1.0, 10.0], 'kernel': ['rbf', 'linear'], 'gamma': ['scale', 'auto']}},\n",
    "    {'model': RandomForestRegressor(), 'params': {'n_estimators': [50, 100, 200, 300], 'max_depth': [None, 10, 20,30, 40]}},\n",
    "    {'model': DecisionTreeRegressor(), 'params': {'max_depth': [None, 10, 20], 'min_samples_split': [2, 5], 'min_samples_leaf': [1, 2, 3]}}\n",
    "]"
   ]
  },
  {
   "cell_type": "code",
   "execution_count": 24,
   "metadata": {},
   "outputs": [
    {
     "name": "stdout",
     "output_type": "stream",
     "text": [
      "LinearRegression:\n",
      "Best Parameters: {}\n",
      "R² Score (Test): 0.7124\n",
      "Cross-Validated R² Score: 0.7039\n",
      "R² Scores per Fold: ['0.7188', '0.7157', '0.6893', '0.6962', '0.6995']\n",
      "--------------------------------------------------\n",
      "Ridge:\n",
      "Best Parameters: {'alpha': 10.0}\n",
      "R² Score (Test): 0.7062\n",
      "Cross-Validated R² Score: 0.7124\n",
      "R² Scores per Fold: ['0.7213', '0.7085', '0.6789', '0.7336', '0.7195']\n",
      "--------------------------------------------------\n",
      "Lasso:\n",
      "Best Parameters: {'alpha': 0.1, 'max_iter': 1000}\n",
      "R² Score (Test): 0.7070\n",
      "Cross-Validated R² Score: 0.7111\n",
      "R² Scores per Fold: ['0.7214', '0.7038', '0.6772', '0.7322', '0.7208']\n",
      "--------------------------------------------------\n",
      "ElasticNet:\n",
      "Best Parameters: {'alpha': 0.1, 'l1_ratio': 0.5}\n",
      "R² Score (Test): 0.7034\n",
      "Cross-Validated R² Score: 0.7114\n",
      "R² Scores per Fold: ['0.7138', '0.7085', '0.6755', '0.7431', '0.7159']\n",
      "--------------------------------------------------\n",
      "SVR:\n",
      "Best Parameters: {'C': 10.0, 'gamma': 'auto', 'kernel': 'rbf'}\n",
      "R² Score (Test): 0.7673\n",
      "Cross-Validated R² Score: 0.7128\n",
      "R² Scores per Fold: ['0.7055', '0.7366', '0.7075', '0.7052', '0.7092']\n",
      "--------------------------------------------------\n",
      "RandomForestRegressor:\n",
      "Best Parameters: {'max_depth': 10, 'n_estimators': 200}\n",
      "R² Score (Test): 0.7381\n",
      "Cross-Validated R² Score: 0.6986\n",
      "R² Scores per Fold: ['0.7150', '0.6494', '0.7243', '0.7647', '0.6398']\n",
      "--------------------------------------------------\n",
      "DecisionTreeRegressor:\n",
      "Best Parameters: {'max_depth': 10, 'min_samples_leaf': 3, 'min_samples_split': 2}\n",
      "R² Score (Test): 0.7031\n",
      "Cross-Validated R² Score: 0.6228\n",
      "R² Scores per Fold: ['0.7029', '0.5327', '0.6882', '0.6316', '0.5584']\n",
      "--------------------------------------------------\n"
     ]
    }
   ],
   "source": [
    "model_names= []\n",
    "r2_scores = []\n",
    "fold_scores = []\n",
    "for reg in regressors:\n",
    "    model = reg['model']\n",
    "    param_grid = reg['params']\n",
    "    \n",
    "    grid_search = GridSearchCV(estimator=model, param_grid=param_grid, cv=5, scoring='r2', n_jobs=-1, return_train_score=False)\n",
    "    \n",
    "    grid_search.fit(X_train, y_train)\n",
    "    \n",
    "    best_model = grid_search.best_estimator_\n",
    "    best_params = grid_search.best_params_\n",
    "    \n",
    "    y_pred = best_model.predict(X_test)\n",
    "    \n",
    "    r2 = r2_score(y_test, y_pred)\n",
    "    \n",
    "    best_index = grid_search.best_index_\n",
    "    fold_r2_scores = [grid_search.cv_results_[f'split{i}_test_score'][best_index] for i in range(5)]\n",
    "    \n",
    "    model_names.append(model.__class__.__name__)\n",
    "    r2_scores.append(r2)\n",
    "    fold_scores.append(fold_r2_scores)\n",
    "    \n",
    "    print(f\"{model.__class__.__name__}:\")\n",
    "    print(f\"Best Parameters: {best_params}\")\n",
    "    print(f\"R² Score (Test): {r2:.4f}\")\n",
    "    print(f\"Cross-Validated R² Score: {grid_search.best_score_:.4f}\")\n",
    "    print(\"R² Scores per Fold:\", [f\"{s:.4f}\" for s in fold_r2_scores])\n",
    "    print(\"-\" * 50)"
   ]
  },
  {
   "cell_type": "markdown",
   "metadata": {},
   "source": [
    "### Random Forest and SVR Performed the Best , so lets check which one is actually best amongst them\n",
    "#### So we will use pairwise test to check the r2_score across each fold of RandomForest and SVR"
   ]
  },
  {
   "cell_type": "code",
   "execution_count": 25,
   "metadata": {},
   "outputs": [],
   "source": [
    "data = pd.DataFrame({\n",
    "    'Model': model_names,\n",
    "    'Fold_Scores': fold_scores\n",
    "})"
   ]
  },
  {
   "cell_type": "code",
   "execution_count": 26,
   "metadata": {},
   "outputs": [
    {
     "data": {
      "text/html": [
       "<div>\n",
       "<style scoped>\n",
       "    .dataframe tbody tr th:only-of-type {\n",
       "        vertical-align: middle;\n",
       "    }\n",
       "\n",
       "    .dataframe tbody tr th {\n",
       "        vertical-align: top;\n",
       "    }\n",
       "\n",
       "    .dataframe thead th {\n",
       "        text-align: right;\n",
       "    }\n",
       "</style>\n",
       "<table border=\"1\" class=\"dataframe\">\n",
       "  <thead>\n",
       "    <tr style=\"text-align: right;\">\n",
       "      <th></th>\n",
       "      <th>Model</th>\n",
       "      <th>Fold_Scores</th>\n",
       "    </tr>\n",
       "  </thead>\n",
       "  <tbody>\n",
       "    <tr>\n",
       "      <th>0</th>\n",
       "      <td>LinearRegression</td>\n",
       "      <td>[0.7188291216088702, 0.7156905664136294, 0.689...</td>\n",
       "    </tr>\n",
       "    <tr>\n",
       "      <th>1</th>\n",
       "      <td>Ridge</td>\n",
       "      <td>[0.7212999122869723, 0.7084599620605856, 0.678...</td>\n",
       "    </tr>\n",
       "    <tr>\n",
       "      <th>2</th>\n",
       "      <td>Lasso</td>\n",
       "      <td>[0.7213517116960353, 0.7037734832354656, 0.677...</td>\n",
       "    </tr>\n",
       "    <tr>\n",
       "      <th>3</th>\n",
       "      <td>ElasticNet</td>\n",
       "      <td>[0.7138161052958443, 0.7085369724699443, 0.675...</td>\n",
       "    </tr>\n",
       "    <tr>\n",
       "      <th>4</th>\n",
       "      <td>SVR</td>\n",
       "      <td>[0.7054830540656725, 0.7365614913445082, 0.707...</td>\n",
       "    </tr>\n",
       "    <tr>\n",
       "      <th>5</th>\n",
       "      <td>RandomForestRegressor</td>\n",
       "      <td>[0.7149747354314375, 0.649435252998557, 0.7242...</td>\n",
       "    </tr>\n",
       "    <tr>\n",
       "      <th>6</th>\n",
       "      <td>DecisionTreeRegressor</td>\n",
       "      <td>[0.7029430916197263, 0.5327107469132301, 0.688...</td>\n",
       "    </tr>\n",
       "  </tbody>\n",
       "</table>\n",
       "</div>"
      ],
      "text/plain": [
       "                   Model                                        Fold_Scores\n",
       "0       LinearRegression  [0.7188291216088702, 0.7156905664136294, 0.689...\n",
       "1                  Ridge  [0.7212999122869723, 0.7084599620605856, 0.678...\n",
       "2                  Lasso  [0.7213517116960353, 0.7037734832354656, 0.677...\n",
       "3             ElasticNet  [0.7138161052958443, 0.7085369724699443, 0.675...\n",
       "4                    SVR  [0.7054830540656725, 0.7365614913445082, 0.707...\n",
       "5  RandomForestRegressor  [0.7149747354314375, 0.649435252998557, 0.7242...\n",
       "6  DecisionTreeRegressor  [0.7029430916197263, 0.5327107469132301, 0.688..."
      ]
     },
     "execution_count": 26,
     "metadata": {},
     "output_type": "execute_result"
    }
   ],
   "source": [
    "data"
   ]
  },
  {
   "cell_type": "code",
   "execution_count": 27,
   "metadata": {},
   "outputs": [],
   "source": [
    "import pingouin as pg"
   ]
  },
  {
   "cell_type": "code",
   "execution_count": 28,
   "metadata": {},
   "outputs": [],
   "source": [
    "svr_scores = data.loc[data['Model'] == 'SVR', 'Fold_Scores'].values[0]\n",
    "rf_scores = data.loc[data['Model'] == 'RandomForestRegressor', 'Fold_Scores'].values[0]"
   ]
  },
  {
   "cell_type": "code",
   "execution_count": 29,
   "metadata": {},
   "outputs": [],
   "source": [
    "from scipy.stats import shapiro"
   ]
  },
  {
   "cell_type": "code",
   "execution_count": 30,
   "metadata": {},
   "outputs": [],
   "source": [
    "def compare_models(scores_a, scores_b, model_a=\"Model_A\", model_b=\"Model_B\"):\n",
    "    diffs = np.array(scores_a) - np.array(scores_b)\n",
    "    normality_p = shapiro(diffs).pvalue\n",
    "    ttest_res = pg.ttest(scores_a, scores_b, paired=True)\n",
    "    wilcoxon_res = pg.wilcoxon(scores_a, scores_b)\n",
    "    if normality_p > 0.05 and len(scores_a) >= 10:\n",
    "        decision = \"Normality OK → Use Paired T-Test\"\n",
    "    elif normality_p > 0.05 and len(scores_a) < 10:\n",
    "        decision = \"Normality OK but small sample → Report both tests\"\n",
    "    else:\n",
    "        decision = \"Normality violated → Prefer Wilcoxon\"\n",
    "    t_p = ttest_res['p-val'].values[0]\n",
    "    w_p = wilcoxon_res['p-val'].values[0]\n",
    "    t_interpret = \"Significant difference ✅\" if t_p < 0.05 else \"No significant difference ❌\"\n",
    "    w_interpret = \"Significant difference ✅\" if w_p < 0.05 else \"No significant difference ❌\"\n",
    "    print(f\"\\n📊 Comparison: {model_a} vs {model_b}\")\n",
    "    print(f\"Normality p-value: {normality_p:.4f}\")\n",
    "    print(f\"T-Test: p={t_p:.4f}, T={ttest_res['T'].values[0]:.4f} → {t_interpret}\")\n",
    "    print(f\"Wilcoxon: p={w_p:.4f}, W={wilcoxon_res['W-val'].values[0]:.4f} → {w_interpret}\")\n",
    "    print(f\"Decision: {decision}\")"
   ]
  },
  {
   "cell_type": "code",
   "execution_count": 31,
   "metadata": {},
   "outputs": [
    {
     "name": "stdout",
     "output_type": "stream",
     "text": [
      "\n",
      "📊 Comparison: SVR vs RandomForest\n",
      "Normality p-value: 0.4847\n",
      "T-Test: p=0.6357, T=0.5119 → No significant difference ❌\n",
      "Wilcoxon: p=0.8125, W=6.0000 → No significant difference ❌\n",
      "Decision: Normality OK but small sample → Report both tests\n"
     ]
    }
   ],
   "source": [
    "compare_models(svr_scores, rf_scores, \"SVR\", \"RandomForest\")"
   ]
  },
  {
   "cell_type": "markdown",
   "metadata": {},
   "source": [
    "### We can use both but will go with RandomForest"
   ]
  }
 ],
 "metadata": {
  "kernelspec": {
   "display_name": "venv",
   "language": "python",
   "name": "python3"
  },
  "language_info": {
   "codemirror_mode": {
    "name": "ipython",
    "version": 3
   },
   "file_extension": ".py",
   "mimetype": "text/x-python",
   "name": "python",
   "nbconvert_exporter": "python",
   "pygments_lexer": "ipython3",
   "version": "3.11.0"
  }
 },
 "nbformat": 4,
 "nbformat_minor": 2
}
