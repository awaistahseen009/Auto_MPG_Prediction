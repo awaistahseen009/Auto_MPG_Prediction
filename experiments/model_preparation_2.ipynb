{
 "cells": [
  {
   "cell_type": "code",
   "execution_count": 1,
   "metadata": {},
   "outputs": [],
   "source": [
    "import numpy as np\n",
    "import pandas as pd\n",
    "import matplotlib.pyplot as plt\n",
    "import seaborn as sns"
   ]
  },
  {
   "cell_type": "code",
   "execution_count": 2,
   "metadata": {},
   "outputs": [],
   "source": [
    "column_names = [\n",
    "    'mpg', 'cylinders', 'displacement', 'horsepower', 'weight',\n",
    "    'acceleration', 'model_year', 'origin', 'car_name'\n",
    "]"
   ]
  },
  {
   "cell_type": "code",
   "execution_count": 3,
   "metadata": {},
   "outputs": [],
   "source": [
    "df = pd.read_csv(\"../data/auto-mpg.data\", sep = r\"\\s+\", header = None, names = column_names, na_values = \"?\")"
   ]
  },
  {
   "cell_type": "code",
   "execution_count": 4,
   "metadata": {},
   "outputs": [
    {
     "data": {
      "text/html": [
       "<div>\n",
       "<style scoped>\n",
       "    .dataframe tbody tr th:only-of-type {\n",
       "        vertical-align: middle;\n",
       "    }\n",
       "\n",
       "    .dataframe tbody tr th {\n",
       "        vertical-align: top;\n",
       "    }\n",
       "\n",
       "    .dataframe thead th {\n",
       "        text-align: right;\n",
       "    }\n",
       "</style>\n",
       "<table border=\"1\" class=\"dataframe\">\n",
       "  <thead>\n",
       "    <tr style=\"text-align: right;\">\n",
       "      <th></th>\n",
       "      <th>mpg</th>\n",
       "      <th>cylinders</th>\n",
       "      <th>displacement</th>\n",
       "      <th>horsepower</th>\n",
       "      <th>weight</th>\n",
       "      <th>acceleration</th>\n",
       "      <th>model_year</th>\n",
       "      <th>origin</th>\n",
       "      <th>car_name</th>\n",
       "    </tr>\n",
       "  </thead>\n",
       "  <tbody>\n",
       "    <tr>\n",
       "      <th>0</th>\n",
       "      <td>18.0</td>\n",
       "      <td>8</td>\n",
       "      <td>307.0</td>\n",
       "      <td>130.0</td>\n",
       "      <td>3504.0</td>\n",
       "      <td>12.0</td>\n",
       "      <td>70</td>\n",
       "      <td>1</td>\n",
       "      <td>chevrolet chevelle malibu</td>\n",
       "    </tr>\n",
       "    <tr>\n",
       "      <th>1</th>\n",
       "      <td>15.0</td>\n",
       "      <td>8</td>\n",
       "      <td>350.0</td>\n",
       "      <td>165.0</td>\n",
       "      <td>3693.0</td>\n",
       "      <td>11.5</td>\n",
       "      <td>70</td>\n",
       "      <td>1</td>\n",
       "      <td>buick skylark 320</td>\n",
       "    </tr>\n",
       "    <tr>\n",
       "      <th>2</th>\n",
       "      <td>18.0</td>\n",
       "      <td>8</td>\n",
       "      <td>318.0</td>\n",
       "      <td>150.0</td>\n",
       "      <td>3436.0</td>\n",
       "      <td>11.0</td>\n",
       "      <td>70</td>\n",
       "      <td>1</td>\n",
       "      <td>plymouth satellite</td>\n",
       "    </tr>\n",
       "    <tr>\n",
       "      <th>3</th>\n",
       "      <td>16.0</td>\n",
       "      <td>8</td>\n",
       "      <td>304.0</td>\n",
       "      <td>150.0</td>\n",
       "      <td>3433.0</td>\n",
       "      <td>12.0</td>\n",
       "      <td>70</td>\n",
       "      <td>1</td>\n",
       "      <td>amc rebel sst</td>\n",
       "    </tr>\n",
       "    <tr>\n",
       "      <th>4</th>\n",
       "      <td>17.0</td>\n",
       "      <td>8</td>\n",
       "      <td>302.0</td>\n",
       "      <td>140.0</td>\n",
       "      <td>3449.0</td>\n",
       "      <td>10.5</td>\n",
       "      <td>70</td>\n",
       "      <td>1</td>\n",
       "      <td>ford torino</td>\n",
       "    </tr>\n",
       "  </tbody>\n",
       "</table>\n",
       "</div>"
      ],
      "text/plain": [
       "    mpg  cylinders  displacement  horsepower  weight  acceleration  \\\n",
       "0  18.0          8         307.0       130.0  3504.0          12.0   \n",
       "1  15.0          8         350.0       165.0  3693.0          11.5   \n",
       "2  18.0          8         318.0       150.0  3436.0          11.0   \n",
       "3  16.0          8         304.0       150.0  3433.0          12.0   \n",
       "4  17.0          8         302.0       140.0  3449.0          10.5   \n",
       "\n",
       "   model_year  origin                   car_name  \n",
       "0          70       1  chevrolet chevelle malibu  \n",
       "1          70       1          buick skylark 320  \n",
       "2          70       1         plymouth satellite  \n",
       "3          70       1              amc rebel sst  \n",
       "4          70       1                ford torino  "
      ]
     },
     "execution_count": 4,
     "metadata": {},
     "output_type": "execute_result"
    }
   ],
   "source": [
    "df.head()"
   ]
  },
  {
   "cell_type": "code",
   "execution_count": 5,
   "metadata": {},
   "outputs": [
    {
     "name": "stdout",
     "output_type": "stream",
     "text": [
      "<class 'pandas.core.frame.DataFrame'>\n",
      "RangeIndex: 398 entries, 0 to 397\n",
      "Data columns (total 9 columns):\n",
      " #   Column        Non-Null Count  Dtype  \n",
      "---  ------        --------------  -----  \n",
      " 0   mpg           398 non-null    float64\n",
      " 1   cylinders     398 non-null    int64  \n",
      " 2   displacement  398 non-null    float64\n",
      " 3   horsepower    392 non-null    float64\n",
      " 4   weight        398 non-null    float64\n",
      " 5   acceleration  398 non-null    float64\n",
      " 6   model_year    398 non-null    int64  \n",
      " 7   origin        398 non-null    int64  \n",
      " 8   car_name      398 non-null    object \n",
      "dtypes: float64(5), int64(3), object(1)\n",
      "memory usage: 28.1+ KB\n"
     ]
    }
   ],
   "source": [
    "df.info()"
   ]
  },
  {
   "cell_type": "code",
   "execution_count": 6,
   "metadata": {},
   "outputs": [],
   "source": [
    "df.dropna(inplace = True)"
   ]
  },
  {
   "cell_type": "code",
   "execution_count": 7,
   "metadata": {},
   "outputs": [
    {
     "data": {
      "text/plain": [
       "np.int64(0)"
      ]
     },
     "execution_count": 7,
     "metadata": {},
     "output_type": "execute_result"
    }
   ],
   "source": [
    "df.duplicated().sum()"
   ]
  },
  {
   "cell_type": "markdown",
   "metadata": {},
   "source": [
    "## Feature Engineering"
   ]
  },
  {
   "cell_type": "code",
   "execution_count": 8,
   "metadata": {},
   "outputs": [],
   "source": [
    "#Captures performance potential\n",
    "df['acc_per_weight'] = df['acceleration'] / df['weight']"
   ]
  },
  {
   "cell_type": "code",
   "execution_count": 9,
   "metadata": {},
   "outputs": [],
   "source": [
    "# Relates engine size per cylinder\n",
    "df['engine_efficiency'] = df['displacement'] / df['cylinders']"
   ]
  },
  {
   "cell_type": "code",
   "execution_count": 10,
   "metadata": {},
   "outputs": [
    {
     "data": {
      "text/plain": [
       "Index(['mpg', 'cylinders', 'displacement', 'horsepower', 'weight',\n",
       "       'acceleration', 'model_year', 'origin', 'car_name', 'acc_per_weight',\n",
       "       'engine_efficiency'],\n",
       "      dtype='object')"
      ]
     },
     "execution_count": 10,
     "metadata": {},
     "output_type": "execute_result"
    }
   ],
   "source": [
    "df.columns"
   ]
  },
  {
   "cell_type": "code",
   "execution_count": 11,
   "metadata": {},
   "outputs": [],
   "source": [
    "corr = df.drop([\"model_year\", 'car_name'], axis = 1).corr()"
   ]
  },
  {
   "cell_type": "code",
   "execution_count": 12,
   "metadata": {},
   "outputs": [
    {
     "data": {
      "text/plain": [
       "<Axes: >"
      ]
     },
     "execution_count": 12,
     "metadata": {},
     "output_type": "execute_result"
    },
    {
     "data": {
      "image/png": "[encoded data removed]",
      "text/plain": [
       "<Figure size 640x480 with 2 Axes>"
      ]
     },
     "metadata": {},
     "output_type": "display_data"
    }
   ],
   "source": [
    "sns.heatmap(corr, annot=True)"
   ]
  },
  {
   "cell_type": "code",
   "execution_count": 13,
   "metadata": {},
   "outputs": [],
   "source": [
    "# convert the year to categorical \n",
    "# Convert to decade group (e.g., 70s, 80s)\n",
    "df['year_category'] = df['model_year'].apply(lambda x: '70s' if x < 80 else '80s')\n",
    "year_dummies = pd.get_dummies(df['year_category'], prefix='decade')\n",
    "df = pd.concat([df, year_dummies], axis=1)"
   ]
  },
  {
   "cell_type": "code",
   "execution_count": 14,
   "metadata": {},
   "outputs": [
    {
     "data": {
      "text/html": [
       "<div>\n",
       "<style scoped>\n",
       "    .dataframe tbody tr th:only-of-type {\n",
       "        vertical-align: middle;\n",
       "    }\n",
       "\n",
       "    .dataframe tbody tr th {\n",
       "        vertical-align: top;\n",
       "    }\n",
       "\n",
       "    .dataframe thead th {\n",
       "        text-align: right;\n",
       "    }\n",
       "</style>\n",
       "<table border=\"1\" class=\"dataframe\">\n",
       "  <thead>\n",
       "    <tr style=\"text-align: right;\">\n",
       "      <th></th>\n",
       "      <th>mpg</th>\n",
       "      <th>cylinders</th>\n",
       "      <th>displacement</th>\n",
       "      <th>horsepower</th>\n",
       "      <th>weight</th>\n",
       "      <th>acceleration</th>\n",
       "      <th>model_year</th>\n",
       "      <th>origin</th>\n",
       "      <th>car_name</th>\n",
       "      <th>acc_per_weight</th>\n",
       "      <th>engine_efficiency</th>\n",
       "      <th>year_category</th>\n",
       "      <th>decade_70s</th>\n",
       "      <th>decade_80s</th>\n",
       "    </tr>\n",
       "  </thead>\n",
       "  <tbody>\n",
       "    <tr>\n",
       "      <th>0</th>\n",
       "      <td>18.0</td>\n",
       "      <td>8</td>\n",
       "      <td>307.0</td>\n",
       "      <td>130.0</td>\n",
       "      <td>3504.0</td>\n",
       "      <td>12.0</td>\n",
       "      <td>70</td>\n",
       "      <td>1</td>\n",
       "      <td>chevrolet chevelle malibu</td>\n",
       "      <td>0.003425</td>\n",
       "      <td>38.375</td>\n",
       "      <td>70s</td>\n",
       "      <td>True</td>\n",
       "      <td>False</td>\n",
       "    </tr>\n",
       "    <tr>\n",
       "      <th>1</th>\n",
       "      <td>15.0</td>\n",
       "      <td>8</td>\n",
       "      <td>350.0</td>\n",
       "      <td>165.0</td>\n",
       "      <td>3693.0</td>\n",
       "      <td>11.5</td>\n",
       "      <td>70</td>\n",
       "      <td>1</td>\n",
       "      <td>buick skylark 320</td>\n",
       "      <td>0.003114</td>\n",
       "      <td>43.750</td>\n",
       "      <td>70s</td>\n",
       "      <td>True</td>\n",
       "      <td>False</td>\n",
       "    </tr>\n",
       "    <tr>\n",
       "      <th>2</th>\n",
       "      <td>18.0</td>\n",
       "      <td>8</td>\n",
       "      <td>318.0</td>\n",
       "      <td>150.0</td>\n",
       "      <td>3436.0</td>\n",
       "      <td>11.0</td>\n",
       "      <td>70</td>\n",
       "      <td>1</td>\n",
       "      <td>plymouth satellite</td>\n",
       "      <td>0.003201</td>\n",
       "      <td>39.750</td>\n",
       "      <td>70s</td>\n",
       "      <td>True</td>\n",
       "      <td>False</td>\n",
       "    </tr>\n",
       "    <tr>\n",
       "      <th>3</th>\n",
       "      <td>16.0</td>\n",
       "      <td>8</td>\n",
       "      <td>304.0</td>\n",
       "      <td>150.0</td>\n",
       "      <td>3433.0</td>\n",
       "      <td>12.0</td>\n",
       "      <td>70</td>\n",
       "      <td>1</td>\n",
       "      <td>amc rebel sst</td>\n",
       "      <td>0.003495</td>\n",
       "      <td>38.000</td>\n",
       "      <td>70s</td>\n",
       "      <td>True</td>\n",
       "      <td>False</td>\n",
       "    </tr>\n",
       "    <tr>\n",
       "      <th>4</th>\n",
       "      <td>17.0</td>\n",
       "      <td>8</td>\n",
       "      <td>302.0</td>\n",
       "      <td>140.0</td>\n",
       "      <td>3449.0</td>\n",
       "      <td>10.5</td>\n",
       "      <td>70</td>\n",
       "      <td>1</td>\n",
       "      <td>ford torino</td>\n",
       "      <td>0.003044</td>\n",
       "      <td>37.750</td>\n",
       "      <td>70s</td>\n",
       "      <td>True</td>\n",
       "      <td>False</td>\n",
       "    </tr>\n",
       "  </tbody>\n",
       "</table>\n",
       "</div>"
      ],
      "text/plain": [
       "    mpg  cylinders  displacement  horsepower  weight  acceleration  \\\n",
       "0  18.0          8         307.0       130.0  3504.0          12.0   \n",
       "1  15.0          8         350.0       165.0  3693.0          11.5   \n",
       "2  18.0          8         318.0       150.0  3436.0          11.0   \n",
       "3  16.0          8         304.0       150.0  3433.0          12.0   \n",
       "4  17.0          8         302.0       140.0  3449.0          10.5   \n",
       "\n",
       "   model_year  origin                   car_name  acc_per_weight  \\\n",
       "0          70       1  chevrolet chevelle malibu        0.003425   \n",
       "1          70       1          buick skylark 320        0.003114   \n",
       "2          70       1         plymouth satellite        0.003201   \n",
       "3          70       1              amc rebel sst        0.003495   \n",
       "4          70       1                ford torino        0.003044   \n",
       "\n",
       "   engine_efficiency year_category  decade_70s  decade_80s  \n",
       "0             38.375           70s        True       False  \n",
       "1             43.750           70s        True       False  \n",
       "2             39.750           70s        True       False  \n",
       "3             38.000           70s        True       False  \n",
       "4             37.750           70s        True       False  "
      ]
     },
     "execution_count": 14,
     "metadata": {},
     "output_type": "execute_result"
    }
   ],
   "source": [
    "df.head()"
   ]
  },
  {
   "cell_type": "markdown",
   "metadata": {},
   "source": [
    "#### we will play with car names in 3rd experiement"
   ]
  },
  {
   "cell_type": "code",
   "execution_count": 15,
   "metadata": {},
   "outputs": [
    {
     "data": {
      "text/plain": [
       "array(['amc', 'audi', 'bmw', 'buick', 'cadillac', 'capri', 'chevroelt',\n",
       "       'chevrolet', 'chevy', 'chrysler', 'datsun', 'dodge', 'fiat',\n",
       "       'ford', 'hi', 'honda', 'maxda', 'mazda', 'mercedes',\n",
       "       'mercedes-benz', 'mercury', 'nissan', 'oldsmobile', 'opel',\n",
       "       'peugeot', 'plymouth', 'pontiac', 'renault', 'saab', 'subaru',\n",
       "       'toyota', 'toyouta', 'triumph', 'vokswagen', 'volkswagen', 'volvo',\n",
       "       'vw'], dtype='<U13')"
      ]
     },
     "execution_count": 15,
     "metadata": {},
     "output_type": "execute_result"
    }
   ],
   "source": [
    "np.unique([car_name.split(\" \")[0] for car_name in df['car_name'].values ])"
   ]
  },
  {
   "cell_type": "code",
   "execution_count": 16,
   "metadata": {},
   "outputs": [
    {
     "data": {
      "text/plain": [
       "Index(['mpg', 'cylinders', 'displacement', 'horsepower', 'weight',\n",
       "       'acceleration', 'model_year', 'origin', 'car_name', 'acc_per_weight',\n",
       "       'engine_efficiency', 'year_category', 'decade_70s', 'decade_80s'],\n",
       "      dtype='object')"
      ]
     },
     "execution_count": 16,
     "metadata": {},
     "output_type": "execute_result"
    }
   ],
   "source": [
    "df.columns"
   ]
  },
  {
   "cell_type": "code",
   "execution_count": 17,
   "metadata": {},
   "outputs": [],
   "source": [
    "numeric_columns = [\"displacement\", \"horsepower\", \"weight\", \"acceleration\",\"engine_efficiency\",\"acc_per_weight\" ]\n",
    "from sklearn.preprocessing import StandardScaler\n",
    "df.drop(\"car_name\", axis =1 , inplace = True)   \n",
    "scaler = StandardScaler()"
   ]
  },
  {
   "cell_type": "code",
   "execution_count": 18,
   "metadata": {},
   "outputs": [
    {
     "data": {
      "text/html": [
       "<div>\n",
       "<style scoped>\n",
       "    .dataframe tbody tr th:only-of-type {\n",
       "        vertical-align: middle;\n",
       "    }\n",
       "\n",
       "    .dataframe tbody tr th {\n",
       "        vertical-align: top;\n",
       "    }\n",
       "\n",
       "    .dataframe thead th {\n",
       "        text-align: right;\n",
       "    }\n",
       "</style>\n",
       "<table border=\"1\" class=\"dataframe\">\n",
       "  <thead>\n",
       "    <tr style=\"text-align: right;\">\n",
       "      <th></th>\n",
       "      <th>mpg</th>\n",
       "      <th>cylinders</th>\n",
       "      <th>displacement</th>\n",
       "      <th>horsepower</th>\n",
       "      <th>weight</th>\n",
       "      <th>acceleration</th>\n",
       "      <th>model_year</th>\n",
       "      <th>origin</th>\n",
       "      <th>acc_per_weight</th>\n",
       "      <th>engine_efficiency</th>\n",
       "      <th>year_category</th>\n",
       "      <th>decade_70s</th>\n",
       "      <th>decade_80s</th>\n",
       "    </tr>\n",
       "  </thead>\n",
       "  <tbody>\n",
       "    <tr>\n",
       "      <th>0</th>\n",
       "      <td>18.0</td>\n",
       "      <td>8</td>\n",
       "      <td>307.0</td>\n",
       "      <td>130.0</td>\n",
       "      <td>3504.0</td>\n",
       "      <td>12.0</td>\n",
       "      <td>70</td>\n",
       "      <td>1</td>\n",
       "      <td>0.003425</td>\n",
       "      <td>38.375</td>\n",
       "      <td>70s</td>\n",
       "      <td>True</td>\n",
       "      <td>False</td>\n",
       "    </tr>\n",
       "  </tbody>\n",
       "</table>\n",
       "</div>"
      ],
      "text/plain": [
       "    mpg  cylinders  displacement  horsepower  weight  acceleration  \\\n",
       "0  18.0          8         307.0       130.0  3504.0          12.0   \n",
       "\n",
       "   model_year  origin  acc_per_weight  engine_efficiency year_category  \\\n",
       "0          70       1        0.003425             38.375           70s   \n",
       "\n",
       "   decade_70s  decade_80s  \n",
       "0        True       False  "
      ]
     },
     "execution_count": 18,
     "metadata": {},
     "output_type": "execute_result"
    }
   ],
   "source": [
    "df.head(1)"
   ]
  },
  {
   "cell_type": "code",
   "execution_count": 19,
   "metadata": {},
   "outputs": [],
   "source": [
    "from scipy import stats\n",
    "df = df[(np.abs(stats.zscore(df[['mpg','horsepower','weight']])) < 3).all(axis=1)]"
   ]
  },
  {
   "cell_type": "code",
   "execution_count": 20,
   "metadata": {},
   "outputs": [],
   "source": [
    "df[numeric_columns] = scaler.fit_transform(df[numeric_columns])"
   ]
  },
  {
   "cell_type": "code",
   "execution_count": 21,
   "metadata": {},
   "outputs": [
    {
     "data": {
      "text/html": [
       "<div>\n",
       "<style scoped>\n",
       "    .dataframe tbody tr th:only-of-type {\n",
       "        vertical-align: middle;\n",
       "    }\n",
       "\n",
       "    .dataframe tbody tr th {\n",
       "        vertical-align: top;\n",
       "    }\n",
       "\n",
       "    .dataframe thead th {\n",
       "        text-align: right;\n",
       "    }\n",
       "</style>\n",
       "<table border=\"1\" class=\"dataframe\">\n",
       "  <thead>\n",
       "    <tr style=\"text-align: right;\">\n",
       "      <th></th>\n",
       "      <th>mpg</th>\n",
       "      <th>cylinders</th>\n",
       "      <th>displacement</th>\n",
       "      <th>horsepower</th>\n",
       "      <th>weight</th>\n",
       "      <th>acceleration</th>\n",
       "      <th>model_year</th>\n",
       "      <th>origin</th>\n",
       "      <th>acc_per_weight</th>\n",
       "      <th>engine_efficiency</th>\n",
       "      <th>year_category</th>\n",
       "      <th>decade_70s</th>\n",
       "      <th>decade_80s</th>\n",
       "    </tr>\n",
       "  </thead>\n",
       "  <tbody>\n",
       "    <tr>\n",
       "      <th>0</th>\n",
       "      <td>18.0</td>\n",
       "      <td>8</td>\n",
       "      <td>1.144257</td>\n",
       "      <td>0.749373</td>\n",
       "      <td>0.64655</td>\n",
       "      <td>-1.340637</td>\n",
       "      <td>70</td>\n",
       "      <td>1</td>\n",
       "      <td>-1.129104</td>\n",
       "      <td>0.625127</td>\n",
       "      <td>70s</td>\n",
       "      <td>True</td>\n",
       "      <td>False</td>\n",
       "    </tr>\n",
       "  </tbody>\n",
       "</table>\n",
       "</div>"
      ],
      "text/plain": [
       "    mpg  cylinders  displacement  horsepower   weight  acceleration  \\\n",
       "0  18.0          8      1.144257    0.749373  0.64655     -1.340637   \n",
       "\n",
       "   model_year  origin  acc_per_weight  engine_efficiency year_category  \\\n",
       "0          70       1       -1.129104           0.625127           70s   \n",
       "\n",
       "   decade_70s  decade_80s  \n",
       "0        True       False  "
      ]
     },
     "execution_count": 21,
     "metadata": {},
     "output_type": "execute_result"
    }
   ],
   "source": [
    "df.head(1)"
   ]
  },
  {
   "cell_type": "code",
   "execution_count": 22,
   "metadata": {},
   "outputs": [
    {
     "data": {
      "text/html": [
       "<div>\n",
       "<style scoped>\n",
       "    .dataframe tbody tr th:only-of-type {\n",
       "        vertical-align: middle;\n",
       "    }\n",
       "\n",
       "    .dataframe tbody tr th {\n",
       "        vertical-align: top;\n",
       "    }\n",
       "\n",
       "    .dataframe thead th {\n",
       "        text-align: right;\n",
       "    }\n",
       "</style>\n",
       "<table border=\"1\" class=\"dataframe\">\n",
       "  <thead>\n",
       "    <tr style=\"text-align: right;\">\n",
       "      <th></th>\n",
       "      <th>mpg</th>\n",
       "      <th>cylinders</th>\n",
       "      <th>displacement</th>\n",
       "      <th>horsepower</th>\n",
       "      <th>weight</th>\n",
       "      <th>acceleration</th>\n",
       "      <th>model_year</th>\n",
       "      <th>origin</th>\n",
       "      <th>acc_per_weight</th>\n",
       "      <th>engine_efficiency</th>\n",
       "      <th>year_category</th>\n",
       "      <th>decade_70s</th>\n",
       "      <th>decade_80s</th>\n",
       "    </tr>\n",
       "  </thead>\n",
       "  <tbody>\n",
       "    <tr>\n",
       "      <th>0</th>\n",
       "      <td>18.0</td>\n",
       "      <td>8</td>\n",
       "      <td>1.144257</td>\n",
       "      <td>0.749373</td>\n",
       "      <td>0.646550</td>\n",
       "      <td>-1.340637</td>\n",
       "      <td>70</td>\n",
       "      <td>1</td>\n",
       "      <td>-1.129104</td>\n",
       "      <td>0.625127</td>\n",
       "      <td>70s</td>\n",
       "      <td>True</td>\n",
       "      <td>False</td>\n",
       "    </tr>\n",
       "    <tr>\n",
       "      <th>1</th>\n",
       "      <td>15.0</td>\n",
       "      <td>8</td>\n",
       "      <td>1.569118</td>\n",
       "      <td>1.717631</td>\n",
       "      <td>0.871819</td>\n",
       "      <td>-1.526104</td>\n",
       "      <td>70</td>\n",
       "      <td>1</td>\n",
       "      <td>-1.277245</td>\n",
       "      <td>1.266942</td>\n",
       "      <td>70s</td>\n",
       "      <td>True</td>\n",
       "      <td>False</td>\n",
       "    </tr>\n",
       "    <tr>\n",
       "      <th>2</th>\n",
       "      <td>18.0</td>\n",
       "      <td>8</td>\n",
       "      <td>1.252943</td>\n",
       "      <td>1.302663</td>\n",
       "      <td>0.565501</td>\n",
       "      <td>-1.711571</td>\n",
       "      <td>70</td>\n",
       "      <td>1</td>\n",
       "      <td>-1.235568</td>\n",
       "      <td>0.789312</td>\n",
       "      <td>70s</td>\n",
       "      <td>True</td>\n",
       "      <td>False</td>\n",
       "    </tr>\n",
       "    <tr>\n",
       "      <th>3</th>\n",
       "      <td>16.0</td>\n",
       "      <td>8</td>\n",
       "      <td>1.114616</td>\n",
       "      <td>1.302663</td>\n",
       "      <td>0.561925</td>\n",
       "      <td>-1.340637</td>\n",
       "      <td>70</td>\n",
       "      <td>1</td>\n",
       "      <td>-1.095329</td>\n",
       "      <td>0.580350</td>\n",
       "      <td>70s</td>\n",
       "      <td>True</td>\n",
       "      <td>False</td>\n",
       "    </tr>\n",
       "    <tr>\n",
       "      <th>4</th>\n",
       "      <td>17.0</td>\n",
       "      <td>8</td>\n",
       "      <td>1.094855</td>\n",
       "      <td>1.026018</td>\n",
       "      <td>0.580995</td>\n",
       "      <td>-1.897039</td>\n",
       "      <td>70</td>\n",
       "      <td>1</td>\n",
       "      <td>-1.310453</td>\n",
       "      <td>0.550498</td>\n",
       "      <td>70s</td>\n",
       "      <td>True</td>\n",
       "      <td>False</td>\n",
       "    </tr>\n",
       "    <tr>\n",
       "      <th>...</th>\n",
       "      <td>...</td>\n",
       "      <td>...</td>\n",
       "      <td>...</td>\n",
       "      <td>...</td>\n",
       "      <td>...</td>\n",
       "      <td>...</td>\n",
       "      <td>...</td>\n",
       "      <td>...</td>\n",
       "      <td>...</td>\n",
       "      <td>...</td>\n",
       "      <td>...</td>\n",
       "      <td>...</td>\n",
       "      <td>...</td>\n",
       "    </tr>\n",
       "    <tr>\n",
       "      <th>393</th>\n",
       "      <td>27.0</td>\n",
       "      <td>4</td>\n",
       "      <td>-0.505780</td>\n",
       "      <td>-0.467866</td>\n",
       "      <td>-0.204468</td>\n",
       "      <td>-0.005272</td>\n",
       "      <td>82</td>\n",
       "      <td>1</td>\n",
       "      <td>-0.095871</td>\n",
       "      <td>0.222128</td>\n",
       "      <td>80s</td>\n",
       "      <td>False</td>\n",
       "      <td>True</td>\n",
       "    </tr>\n",
       "    <tr>\n",
       "      <th>394</th>\n",
       "      <td>44.0</td>\n",
       "      <td>4</td>\n",
       "      <td>-0.930640</td>\n",
       "      <td>-1.408460</td>\n",
       "      <td>-0.991124</td>\n",
       "      <td>3.333141</td>\n",
       "      <td>82</td>\n",
       "      <td>2</td>\n",
       "      <td>2.745216</td>\n",
       "      <td>-1.061502</td>\n",
       "      <td>80s</td>\n",
       "      <td>False</td>\n",
       "      <td>True</td>\n",
       "    </tr>\n",
       "    <tr>\n",
       "      <th>395</th>\n",
       "      <td>32.0</td>\n",
       "      <td>4</td>\n",
       "      <td>-0.555183</td>\n",
       "      <td>-0.523195</td>\n",
       "      <td>-0.794460</td>\n",
       "      <td>-1.489011</td>\n",
       "      <td>82</td>\n",
       "      <td>1</td>\n",
       "      <td>-0.351913</td>\n",
       "      <td>0.072868</td>\n",
       "      <td>80s</td>\n",
       "      <td>False</td>\n",
       "      <td>True</td>\n",
       "    </tr>\n",
       "    <tr>\n",
       "      <th>396</th>\n",
       "      <td>28.0</td>\n",
       "      <td>4</td>\n",
       "      <td>-0.703390</td>\n",
       "      <td>-0.661518</td>\n",
       "      <td>-0.401132</td>\n",
       "      <td>1.107532</td>\n",
       "      <td>82</td>\n",
       "      <td>1</td>\n",
       "      <td>0.616709</td>\n",
       "      <td>-0.374909</td>\n",
       "      <td>80s</td>\n",
       "      <td>False</td>\n",
       "      <td>True</td>\n",
       "    </tr>\n",
       "    <tr>\n",
       "      <th>397</th>\n",
       "      <td>31.0</td>\n",
       "      <td>4</td>\n",
       "      <td>-0.713270</td>\n",
       "      <td>-0.578524</td>\n",
       "      <td>-0.287901</td>\n",
       "      <td>1.404280</td>\n",
       "      <td>82</td>\n",
       "      <td>1</td>\n",
       "      <td>0.638950</td>\n",
       "      <td>-0.404761</td>\n",
       "      <td>80s</td>\n",
       "      <td>False</td>\n",
       "      <td>True</td>\n",
       "    </tr>\n",
       "  </tbody>\n",
       "</table>\n",
       "<p>387 rows × 13 columns</p>\n",
       "</div>"
      ],
      "text/plain": [
       "      mpg  cylinders  displacement  horsepower    weight  acceleration  \\\n",
       "0    18.0          8      1.144257    0.749373  0.646550     -1.340637   \n",
       "1    15.0          8      1.569118    1.717631  0.871819     -1.526104   \n",
       "2    18.0          8      1.252943    1.302663  0.565501     -1.711571   \n",
       "3    16.0          8      1.114616    1.302663  0.561925     -1.340637   \n",
       "4    17.0          8      1.094855    1.026018  0.580995     -1.897039   \n",
       "..    ...        ...           ...         ...       ...           ...   \n",
       "393  27.0          4     -0.505780   -0.467866 -0.204468     -0.005272   \n",
       "394  44.0          4     -0.930640   -1.408460 -0.991124      3.333141   \n",
       "395  32.0          4     -0.555183   -0.523195 -0.794460     -1.489011   \n",
       "396  28.0          4     -0.703390   -0.661518 -0.401132      1.107532   \n",
       "397  31.0          4     -0.713270   -0.578524 -0.287901      1.404280   \n",
       "\n",
       "     model_year  origin  acc_per_weight  engine_efficiency year_category  \\\n",
       "0            70       1       -1.129104           0.625127           70s   \n",
       "1            70       1       -1.277245           1.266942           70s   \n",
       "2            70       1       -1.235568           0.789312           70s   \n",
       "3            70       1       -1.095329           0.580350           70s   \n",
       "4            70       1       -1.310453           0.550498           70s   \n",
       "..          ...     ...             ...                ...           ...   \n",
       "393          82       1       -0.095871           0.222128           80s   \n",
       "394          82       2        2.745216          -1.061502           80s   \n",
       "395          82       1       -0.351913           0.072868           80s   \n",
       "396          82       1        0.616709          -0.374909           80s   \n",
       "397          82       1        0.638950          -0.404761           80s   \n",
       "\n",
       "     decade_70s  decade_80s  \n",
       "0          True       False  \n",
       "1          True       False  \n",
       "2          True       False  \n",
       "3          True       False  \n",
       "4          True       False  \n",
       "..          ...         ...  \n",
       "393       False        True  \n",
       "394       False        True  \n",
       "395       False        True  \n",
       "396       False        True  \n",
       "397       False        True  \n",
       "\n",
       "[387 rows x 13 columns]"
      ]
     },
     "execution_count": 22,
     "metadata": {},
     "output_type": "execute_result"
    }
   ],
   "source": [
    "df.dropna()"
   ]
  },
  {
   "cell_type": "code",
   "execution_count": 23,
   "metadata": {},
   "outputs": [],
   "source": [
    "X = df.drop([\"mpg\",\"year_category\",\"model_year\"], axis = 1)\n",
    "y = df['mpg']\n",
    "from sklearn.model_selection import train_test_split\n",
    "X_train, X_test, y_train, y_test = train_test_split(X, y, test_size=0.2 ,random_state = 42)"
   ]
  },
  {
   "cell_type": "code",
   "execution_count": 24,
   "metadata": {},
   "outputs": [
    {
     "data": {
      "text/plain": [
       "((309, 10), (309,), (78, 10), (78,))"
      ]
     },
     "execution_count": 24,
     "metadata": {},
     "output_type": "execute_result"
    }
   ],
   "source": [
    "X_train.shape , y_train.shape, X_test.shape , y_test.shape"
   ]
  },
  {
   "cell_type": "code",
   "execution_count": 25,
   "metadata": {},
   "outputs": [],
   "source": [
    "from sklearn.linear_model import LinearRegression, Ridge, Lasso, ElasticNet\n",
    "from sklearn.svm import SVR\n",
    "from sklearn.ensemble import RandomForestRegressor\n",
    "from sklearn.tree import DecisionTreeRegressor"
   ]
  },
  {
   "cell_type": "markdown",
   "metadata": {},
   "source": [
    "## Before Hyper-Parameter Tuning"
   ]
  },
  {
   "cell_type": "code",
   "execution_count": 26,
   "metadata": {},
   "outputs": [],
   "source": [
    "from sklearn.metrics import r2_score"
   ]
  },
  {
   "cell_type": "code",
   "execution_count": 27,
   "metadata": {},
   "outputs": [
    {
     "name": "stdout",
     "output_type": "stream",
     "text": [
      "LinearRegression: R² Score = 0.8176\n",
      "Ridge: R² Score = 0.8158\n",
      "Lasso: R² Score = 0.6543\n",
      "ElasticNet: R² Score = 0.6961\n",
      "SVR: R² Score = 0.7594\n",
      "RandomForestRegressor: R² Score = 0.8587\n",
      "DecisionTreeRegressor: R² Score = 0.6512\n"
     ]
    }
   ],
   "source": [
    "regressors = [\n",
    "    LinearRegression(),\n",
    "    Ridge(),\n",
    "    Lasso(),\n",
    "    ElasticNet(),\n",
    "    SVR(),\n",
    "    RandomForestRegressor(),\n",
    "    DecisionTreeRegressor()\n",
    "]\n",
    "\n",
    "for regressor in regressors:\n",
    "    regressor.fit(X_train, y_train)\n",
    "    y_pred = regressor.predict(X_test)\n",
    "    r2 = r2_score(y_test, y_pred)\n",
    "    print(f\"{regressor.__class__.__name__}: R² Score = {r2:.4f}\")"
   ]
  },
  {
   "cell_type": "code",
   "execution_count": 28,
   "metadata": {},
   "outputs": [],
   "source": [
    "from sklearn.model_selection import GridSearchCV"
   ]
  },
  {
   "cell_type": "code",
   "execution_count": 29,
   "metadata": {},
   "outputs": [],
   "source": [
    "regressors = [\n",
    "    {'model': LinearRegression(), 'params': {}},  # No hyperparameters to tune\n",
    "    {'model': Ridge(), 'params': {'alpha': [0.1, 1.0, 10.0, 100.0]}},\n",
    "    {'model': Lasso(), 'params': {'alpha': [0.1, 1.0, 10.0], 'max_iter': [1000, 2000]}},\n",
    "    {'model': ElasticNet(), 'params': {'alpha': [0.1, 1.0, 10.0], 'l1_ratio': [0.2, 0.5, 0.8]}},\n",
    "    {'model': SVR(), 'params': {'C': [0.1, 1.0, 10.0], 'kernel': ['rbf', 'linear'], 'gamma': ['scale', 'auto']}},\n",
    "    {'model': RandomForestRegressor(), 'params': {'n_estimators': [50, 100, 200, 300], 'max_depth': [None, 10, 20,30, 40]}},\n",
    "    {'model': DecisionTreeRegressor(), 'params': {'max_depth': [None, 10, 20], 'min_samples_split': [2, 5], 'min_samples_leaf': [1, 2, 3]}}\n",
    "]"
   ]
  },
  {
   "cell_type": "code",
   "execution_count": 30,
   "metadata": {},
   "outputs": [
    {
     "name": "stdout",
     "output_type": "stream",
     "text": [
      "LinearRegression:\n",
      "Best Parameters: {}\n",
      "R² Score (Test): 0.8176\n",
      "Cross-Validated R² Score: 0.8247\n",
      "R² Scores per Fold: ['0.8243', '0.8495', '0.8155', '0.7892', '0.8452']\n",
      "--------------------------------------------------\n",
      "Ridge:\n",
      "Best Parameters: {'alpha': 1.0}\n",
      "R² Score (Test): 0.8158\n",
      "Cross-Validated R² Score: 0.8271\n",
      "R² Scores per Fold: ['0.8262', '0.8579', '0.8144', '0.7926', '0.8444']\n",
      "--------------------------------------------------\n",
      "Lasso:\n",
      "Best Parameters: {'alpha': 0.1, 'max_iter': 1000}\n",
      "R² Score (Test): 0.8092\n",
      "Cross-Validated R² Score: 0.8238\n",
      "R² Scores per Fold: ['0.8269', '0.8539', '0.8092', '0.7953', '0.8339']\n",
      "--------------------------------------------------\n",
      "ElasticNet:\n",
      "Best Parameters: {'alpha': 0.1, 'l1_ratio': 0.8}\n",
      "R² Score (Test): 0.8046\n",
      "Cross-Validated R² Score: 0.8218\n",
      "R² Scores per Fold: ['0.8268', '0.8484', '0.8110', '0.7940', '0.8287']\n",
      "--------------------------------------------------\n",
      "SVR:\n",
      "Best Parameters: {'C': 10.0, 'gamma': 'auto', 'kernel': 'rbf'}\n",
      "R² Score (Test): 0.8312\n",
      "Cross-Validated R² Score: 0.8441\n",
      "R² Scores per Fold: ['0.8209', '0.8790', '0.8583', '0.7880', '0.8744']\n",
      "--------------------------------------------------\n",
      "RandomForestRegressor:\n",
      "Best Parameters: {'max_depth': 30, 'n_estimators': 100}\n",
      "R² Score (Test): 0.8535\n",
      "Cross-Validated R² Score: 0.8230\n",
      "R² Scores per Fold: ['0.8257', '0.8468', '0.8559', '0.7852', '0.8016']\n",
      "--------------------------------------------------\n",
      "DecisionTreeRegressor:\n",
      "Best Parameters: {'max_depth': 10, 'min_samples_leaf': 3, 'min_samples_split': 5}\n",
      "R² Score (Test): 0.7394\n",
      "Cross-Validated R² Score: 0.7350\n",
      "R² Scores per Fold: ['0.7968', '0.7393', '0.6557', '0.7514', '0.7318']\n",
      "--------------------------------------------------\n"
     ]
    }
   ],
   "source": [
    "model_names= []\n",
    "r2_scores = []\n",
    "fold_scores = []\n",
    "for reg in regressors:\n",
    "    model = reg['model']\n",
    "    param_grid = reg['params']\n",
    "    \n",
    "    grid_search = GridSearchCV(estimator=model, param_grid=param_grid, cv=5, scoring='r2', n_jobs=-1, return_train_score=False)\n",
    "    \n",
    "    grid_search.fit(X_train, y_train)\n",
    "    \n",
    "    best_model = grid_search.best_estimator_\n",
    "    best_params = grid_search.best_params_\n",
    "    \n",
    "    y_pred = best_model.predict(X_test)\n",
    "    \n",
    "    r2 = r2_score(y_test, y_pred)\n",
    "    \n",
    "    best_index = grid_search.best_index_\n",
    "    fold_r2_scores = [grid_search.cv_results_[f'split{i}_test_score'][best_index] for i in range(5)]\n",
    "    \n",
    "    model_names.append(model.__class__.__name__)\n",
    "    r2_scores.append(r2)\n",
    "    fold_scores.append(fold_r2_scores)\n",
    "    \n",
    "    print(f\"{model.__class__.__name__}:\")\n",
    "    print(f\"Best Parameters: {best_params}\")\n",
    "    print(f\"R² Score (Test): {r2:.4f}\")\n",
    "    print(f\"Cross-Validated R² Score: {grid_search.best_score_:.4f}\")\n",
    "    print(\"R² Scores per Fold:\", [f\"{s:.4f}\" for s in fold_r2_scores])\n",
    "    print(\"-\" * 50)"
   ]
  },
  {
   "cell_type": "markdown",
   "metadata": {},
   "source": [
    "### Random Forest and SVR Performed the Best , so lets check which one is actually best amongst them\n",
    "#### So we will use pairwise test to check the r2_score across each fold of RandomForest and SVR"
   ]
  },
  {
   "cell_type": "code",
   "execution_count": 31,
   "metadata": {},
   "outputs": [],
   "source": [
    "data = pd.DataFrame({\n",
    "    'Model': model_names,\n",
    "    'Fold_Scores': fold_scores\n",
    "})"
   ]
  },
  {
   "cell_type": "code",
   "execution_count": 32,
   "metadata": {},
   "outputs": [
    {
     "data": {
      "text/html": [
       "<div>\n",
       "<style scoped>\n",
       "    .dataframe tbody tr th:only-of-type {\n",
       "        vertical-align: middle;\n",
       "    }\n",
       "\n",
       "    .dataframe tbody tr th {\n",
       "        vertical-align: top;\n",
       "    }\n",
       "\n",
       "    .dataframe thead th {\n",
       "        text-align: right;\n",
       "    }\n",
       "</style>\n",
       "<table border=\"1\" class=\"dataframe\">\n",
       "  <thead>\n",
       "    <tr style=\"text-align: right;\">\n",
       "      <th></th>\n",
       "      <th>Model</th>\n",
       "      <th>Fold_Scores</th>\n",
       "    </tr>\n",
       "  </thead>\n",
       "  <tbody>\n",
       "    <tr>\n",
       "      <th>0</th>\n",
       "      <td>LinearRegression</td>\n",
       "      <td>[0.8242521071353222, 0.8495045230258037, 0.815...</td>\n",
       "    </tr>\n",
       "    <tr>\n",
       "      <th>1</th>\n",
       "      <td>Ridge</td>\n",
       "      <td>[0.8262039095016289, 0.8579282949512473, 0.814...</td>\n",
       "    </tr>\n",
       "    <tr>\n",
       "      <th>2</th>\n",
       "      <td>Lasso</td>\n",
       "      <td>[0.8269357237129178, 0.8538704711901091, 0.809...</td>\n",
       "    </tr>\n",
       "    <tr>\n",
       "      <th>3</th>\n",
       "      <td>ElasticNet</td>\n",
       "      <td>[0.8267887126781965, 0.8484436348589637, 0.810...</td>\n",
       "    </tr>\n",
       "    <tr>\n",
       "      <th>4</th>\n",
       "      <td>SVR</td>\n",
       "      <td>[0.8208660121425425, 0.8789809307704828, 0.858...</td>\n",
       "    </tr>\n",
       "    <tr>\n",
       "      <th>5</th>\n",
       "      <td>RandomForestRegressor</td>\n",
       "      <td>[0.8257178892038453, 0.846825605284631, 0.8558...</td>\n",
       "    </tr>\n",
       "    <tr>\n",
       "      <th>6</th>\n",
       "      <td>DecisionTreeRegressor</td>\n",
       "      <td>[0.7967963326845917, 0.7393151908244369, 0.655...</td>\n",
       "    </tr>\n",
       "  </tbody>\n",
       "</table>\n",
       "</div>"
      ],
      "text/plain": [
       "                   Model                                        Fold_Scores\n",
       "0       LinearRegression  [0.8242521071353222, 0.8495045230258037, 0.815...\n",
       "1                  Ridge  [0.8262039095016289, 0.8579282949512473, 0.814...\n",
       "2                  Lasso  [0.8269357237129178, 0.8538704711901091, 0.809...\n",
       "3             ElasticNet  [0.8267887126781965, 0.8484436348589637, 0.810...\n",
       "4                    SVR  [0.8208660121425425, 0.8789809307704828, 0.858...\n",
       "5  RandomForestRegressor  [0.8257178892038453, 0.846825605284631, 0.8558...\n",
       "6  DecisionTreeRegressor  [0.7967963326845917, 0.7393151908244369, 0.655..."
      ]
     },
     "execution_count": 32,
     "metadata": {},
     "output_type": "execute_result"
    }
   ],
   "source": [
    "data"
   ]
  },
  {
   "cell_type": "code",
   "execution_count": 33,
   "metadata": {},
   "outputs": [],
   "source": [
    "import pingouin as pg"
   ]
  },
  {
   "cell_type": "code",
   "execution_count": 34,
   "metadata": {},
   "outputs": [],
   "source": [
    "svr_scores = data.loc[data['Model'] == 'SVR', 'Fold_Scores'].values[0]\n",
    "rf_scores = data.loc[data['Model'] == 'RandomForestRegressor', 'Fold_Scores'].values[0]"
   ]
  },
  {
   "cell_type": "code",
   "execution_count": 35,
   "metadata": {},
   "outputs": [],
   "source": [
    "from scipy.stats import shapiro"
   ]
  },
  {
   "cell_type": "code",
   "execution_count": 36,
   "metadata": {},
   "outputs": [],
   "source": [
    "def compare_models(scores_a, scores_b, model_a=\"Model_A\", model_b=\"Model_B\"):\n",
    "    diffs = np.array(scores_a) - np.array(scores_b)\n",
    "    normality_p = shapiro(diffs).pvalue\n",
    "    ttest_res = pg.ttest(scores_a, scores_b, paired=True)\n",
    "    wilcoxon_res = pg.wilcoxon(scores_a, scores_b)\n",
    "    if normality_p > 0.05 and len(scores_a) >= 10:\n",
    "        decision = \"Normality OK → Use Paired T-Test\"\n",
    "    elif normality_p > 0.05 and len(scores_a) < 10:\n",
    "        decision = \"Normality OK but small sample → Report both tests\"\n",
    "    else:\n",
    "        decision = \"Normality violated → Prefer Wilcoxon\"\n",
    "    t_p = ttest_res['p-val'].values[0]\n",
    "    w_p = wilcoxon_res['p-val'].values[0]\n",
    "    t_interpret = \"Significant difference ✅\" if t_p < 0.05 else \"No significant difference ❌\"\n",
    "    w_interpret = \"Significant difference ✅\" if w_p < 0.05 else \"No significant difference ❌\"\n",
    "    print(f\"\\n📊 Comparison: {model_a} vs {model_b}\")\n",
    "    print(f\"Normality p-value: {normality_p:.4f}\")\n",
    "    print(f\"T-Test: p={t_p:.4f}, T={ttest_res['T'].values[0]:.4f} → {t_interpret}\")\n",
    "    print(f\"Wilcoxon: p={w_p:.4f}, W={wilcoxon_res['W-val'].values[0]:.4f} → {w_interpret}\")\n",
    "    print(f\"Decision: {decision}\")"
   ]
  },
  {
   "cell_type": "code",
   "execution_count": 37,
   "metadata": {},
   "outputs": [
    {
     "name": "stdout",
     "output_type": "stream",
     "text": [
      "\n",
      "📊 Comparison: SVR vs RandomForest\n",
      "Normality p-value: 0.1444\n",
      "T-Test: p=0.2173, T=1.4629 → No significant difference ❌\n",
      "Wilcoxon: p=0.3125, W=3.0000 → No significant difference ❌\n",
      "Decision: Normality OK but small sample → Report both tests\n"
     ]
    }
   ],
   "source": [
    "compare_models(svr_scores, rf_scores, \"SVR\", \"RandomForest\")"
   ]
  },
  {
   "cell_type": "markdown",
   "metadata": {},
   "source": [
    "### We can use both but will go with RandomForest"
   ]
  }
 ],
 "metadata": {
  "kernelspec": {
   "display_name": "venv",
   "language": "python",
   "name": "python3"
  },
  "language_info": {
   "codemirror_mode": {
    "name": "ipython",
    "version": 3
   },
   "file_extension": ".py",
   "mimetype": "text/x-python",
   "name": "python",
   "nbconvert_exporter": "python",
   "pygments_lexer": "ipython3",
   "version": "3.11.0"
  }
 },
 "nbformat": 4,
 "nbformat_minor": 2
}
